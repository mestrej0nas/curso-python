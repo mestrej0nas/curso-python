{
  "nbformat": 4,
  "nbformat_minor": 0,
  "metadata": {
    "colab": {
      "name": "Aula0.ipynb",
      "provenance": [],
      "authorship_tag": "ABX9TyN6jLgXNqntIAWWMxrZgtBo",
      "include_colab_link": true
    },
    "kernelspec": {
      "name": "python3",
      "display_name": "Python 3"
    },
    "language_info": {
      "name": "python"
    }
  },
  "cells": [
    {
      "cell_type": "markdown",
      "metadata": {
        "id": "view-in-github",
        "colab_type": "text"
      },
      "source": [
        "<a href=\"https://colab.research.google.com/github/mestrej0nas/curso-python/blob/main/Aula0.ipynb\" target=\"_parent\"><img src=\"https://colab.research.google.com/assets/colab-badge.svg\" alt=\"Open In Colab\"/></a>"
      ]
    },
    {
      "cell_type": "code",
      "execution_count": null,
      "metadata": {
        "colab": {
          "base_uri": "https://localhost:8080/"
        },
        "id": "PsEUjRU6pcYC",
        "outputId": "d3230a20-dc8f-4cf6-f21a-1654ba7ca028"
      },
      "outputs": [
        {
          "output_type": "stream",
          "name": "stdout",
          "text": [
            "Aula ao vivo do Modulo 0\n"
          ]
        }
      ],
      "source": [
        "print('Aula ao vivo do Modulo 0')\n"
      ]
    },
    {
      "cell_type": "markdown",
      "source": [
        "primeira aula aovivo do modulo 0"
      ],
      "metadata": {
        "id": "qrlsXnokqDfa"
      }
    }
  ]
}